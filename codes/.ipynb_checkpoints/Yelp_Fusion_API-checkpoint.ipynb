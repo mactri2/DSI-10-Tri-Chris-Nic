{
 "cells": [
  {
   "cell_type": "markdown",
   "metadata": {},
   "source": [
    "# Goal"
   ]
  },
  {
   "cell_type": "markdown",
   "metadata": {},
   "source": [
    "Utilizing Yelp data to estimate the number of businesses in a given locality and categorize them by lifeline"
   ]
  },
  {
   "cell_type": "markdown",
   "metadata": {},
   "source": [
    "Will's notes\n",
    "Population density\n",
    "15% create\n",
    "30% limitation\n",
    "\n"
   ]
  },
  {
   "cell_type": "markdown",
   "metadata": {},
   "source": [
    "## Problem"
   ]
  },
  {
   "cell_type": "markdown",
   "metadata": {},
   "source": [
    "Problem 8: Utilizing Yelp data to estimate the number of businesses in a given locality and categorizing them according to FEMA's seven lifelines\n",
    "\n",
    "Problem Statement: Prior to and during a disaster, it is important to understand the projected and actual effects of the event on the community, including its economic effects on critical services. FEMA has identified seven “lifelines” that require attention during a disaster:\n",
    "\n",
    "(1) Safety and Security\\\n",
    "(2) Food, Water, Sheltering\\\n",
    "(3) Health and Medical\\\n",
    "(4) Energy (power, fuel)\\\n",
    "(5) Communications\\\n",
    "(6) Transportation\\\n",
    "(7) Hazardous Waste\n",
    "\n",
    "This tool will utilize Yelp to estimate the effects of the event on each of the seven lifelines. This can include the number of businesses or services in each category or even, if available, their status (if provided by users and reviews in Yelp). The tool will search for relevant data and categorize it according to a list of impacted neighborhoods or a list of affected zip codes. It will provide an estimation of the potential impact of the event, at least according to the data available in Yelp."
   ]
  },
  {
   "cell_type": "markdown",
   "metadata": {},
   "source": [
    "## Imports"
   ]
  },
  {
   "cell_type": "code",
   "execution_count": 24,
   "metadata": {},
   "outputs": [
    {
     "name": "stderr",
     "output_type": "stream",
     "text": [
      "[nltk_data] Downloading package stopwords to\n",
      "[nltk_data]     /Users/tringuyen/nltk_data...\n",
      "[nltk_data]   Package stopwords is already up-to-date!\n"
     ]
    }
   ],
   "source": [
    "import requests\n",
    "import json\n",
    "\n",
    "import pandas as pd\n",
    "import numpy as np\n",
    "import seaborn as sns\n",
    "import matplotlib as mpl\n",
    "import matplotlib.pyplot as plt\n",
    "\n",
    "from bs4 import BeautifulSoup\n",
    "\n",
    "import time\n",
    "\n",
    "import regex as re\n",
    "\n",
    "from nltk.stem import WordNetLemmatizer\n",
    "from nltk.tokenize import RegexpTokenizer\n",
    "import nltk\n",
    "nltk.download('stopwords')\n",
    "from nltk.corpus import stopwords\n",
    "\n",
    "from sklearn.model_selection import train_test_split, cross_val_score, GridSearchCV\n",
    "from sklearn.pipeline import Pipeline\n",
    "from sklearn.linear_model import LogisticRegression\n",
    "from sklearn.feature_extraction.text import CountVectorizer, TfidfVectorizer\n",
    "from sklearn.feature_extraction import stop_words\n",
    "\n",
    "from sklearn import preprocessing\n",
    "\n",
    "from sklearn.feature_selection import RFE\n",
    "from sklearn.feature_selection import SelectKBest\n",
    "from sklearn.feature_selection import chi2\n",
    "\n",
    "from sklearn.ensemble import ExtraTreesClassifier\n",
    "\n",
    "from sklearn.metrics import confusion_matrix\n",
    "\n",
    "#from sklearn.naive_bayes import CategoricalNB\n",
    "from sklearn.naive_bayes import GaussianNB\n",
    "from sklearn.naive_bayes import MultinomialNB\n",
    "\n",
    "%matplotlib inline"
   ]
  },
  {
   "cell_type": "markdown",
   "metadata": {},
   "source": [
    "## Yelp Fushion API"
   ]
  },
  {
   "cell_type": "code",
   "execution_count": 2,
   "metadata": {},
   "outputs": [],
   "source": [
    "api_key='OEwJjivomfYJlF4fY7s8ShrogVV8EFF11Um66hxN2hRpsDE5YgF5qeyVLOkOMY32sRDSXW7mfdC1amhjE1IhCjyqEhwNwjudYL82aH4jCjM-wqp6GR46OR3HmDk7XnYx'\n",
    "headers = {'Authorization': 'Bearer %s' % api_key}\n"
   ]
  },
  {
   "cell_type": "markdown",
   "metadata": {},
   "source": [
    "## (1) Safety & Security"
   ]
  },
  {
   "cell_type": "code",
   "execution_count": 3,
   "metadata": {},
   "outputs": [],
   "source": [
    "url='https://api.yelp.com/v3/businesses/search'\n",
    "\n",
    "# In the dictionary, term can take values like food, cafes or businesses like McDonalds\n",
    "#https://www.yelp.com/developers/documentation/v3/all_category_list --Categories param\n",
    "#https://www.yelp.com/developers/documentation/v3/business_search --Param\n",
    "params_safety = {'categories':['firedepartments','policedepartments'],\n",
    "                 'location':'Boston',\n",
    "                 'limit': 50,\n",
    "                 'radius':40000\n",
    "                }\n"
   ]
  },
  {
   "cell_type": "code",
   "execution_count": 7,
   "metadata": {},
   "outputs": [
    {
     "name": "stdout",
     "output_type": "stream",
     "text": [
      "The status code is 200\n"
     ]
    }
   ],
   "source": [
    "# Making a get request to the API\n",
    "req=requests.get(url, params_safety, headers=headers)\n",
    "# proceed only if the status code is 200\n",
    "print('The status code is {}'.format(req.status_code))"
   ]
  },
  {
   "cell_type": "code",
   "execution_count": 8,
   "metadata": {},
   "outputs": [
    {
     "data": {
      "text/plain": [
       "18"
      ]
     },
     "execution_count": 8,
     "metadata": {},
     "output_type": "execute_result"
    }
   ],
   "source": [
    "data = req.json()\n",
    "posts_safety = data['businesses']\n",
    "len(posts_safety)"
   ]
  },
  {
   "cell_type": "markdown",
   "metadata": {},
   "source": [
    "## For Loop to Extract Name and Category of Each Business"
   ]
  },
  {
   "cell_type": "code",
   "execution_count": 19,
   "metadata": {},
   "outputs": [
    {
     "data": {
      "text/plain": [
       "42.3699354188619"
      ]
     },
     "execution_count": 19,
     "metadata": {},
     "output_type": "execute_result"
    }
   ],
   "source": [
    "posts_safety[1]['coordinates']['latitude']"
   ]
  },
  {
   "cell_type": "code",
   "execution_count": 21,
   "metadata": {},
   "outputs": [],
   "source": [
    "names = []\n",
    "categories = []\n",
    "latitude = []\n",
    "longitude = []\n",
    "\n",
    "for i in range(len(posts_safety)):\n",
    "    names.append(posts_safety[i]['name'])\n",
    "    categories.append(posts_safety[i]['categories'][0]['alias'])\n",
    "    latitude.append(posts_safety[i]['coordinates']['latitude'])\n",
    "    longitude.append(posts_safety[i]['coordinates']['longitude'])"
   ]
  },
  {
   "cell_type": "markdown",
   "metadata": {},
   "source": [
    "## Create a Dataframe for the Lifeline 1 Businesses"
   ]
  },
  {
   "cell_type": "code",
   "execution_count": 22,
   "metadata": {},
   "outputs": [],
   "source": [
    "df_safety = pd.DataFrame(columns=['Business', 'Category'])\n",
    "df_safety['Business'] = names\n",
    "df_safety['Category'] = categories\n",
    "df_safety['Lifeline'] = 1\n",
    "df_safety['Latitude'] = latitude\n",
    "df_safety['Longitude'] = longitude"
   ]
  },
  {
   "cell_type": "code",
   "execution_count": 23,
   "metadata": {},
   "outputs": [
    {
     "data": {
      "text/html": [
       "<div>\n",
       "<style scoped>\n",
       "    .dataframe tbody tr th:only-of-type {\n",
       "        vertical-align: middle;\n",
       "    }\n",
       "\n",
       "    .dataframe tbody tr th {\n",
       "        vertical-align: top;\n",
       "    }\n",
       "\n",
       "    .dataframe thead th {\n",
       "        text-align: right;\n",
       "    }\n",
       "</style>\n",
       "<table border=\"1\" class=\"dataframe\">\n",
       "  <thead>\n",
       "    <tr style=\"text-align: right;\">\n",
       "      <th></th>\n",
       "      <th>Business</th>\n",
       "      <th>Category</th>\n",
       "      <th>Lifeline</th>\n",
       "      <th>Latitude</th>\n",
       "      <th>Longitude</th>\n",
       "    </tr>\n",
       "  </thead>\n",
       "  <tbody>\n",
       "    <tr>\n",
       "      <th>0</th>\n",
       "      <td>Boston Police Department</td>\n",
       "      <td>policedepartments</td>\n",
       "      <td>1</td>\n",
       "      <td>42.361798</td>\n",
       "      <td>-71.060297</td>\n",
       "    </tr>\n",
       "    <tr>\n",
       "      <th>1</th>\n",
       "      <td>Harvard University Police Department</td>\n",
       "      <td>policedepartments</td>\n",
       "      <td>1</td>\n",
       "      <td>42.369935</td>\n",
       "      <td>-71.112013</td>\n",
       "    </tr>\n",
       "    <tr>\n",
       "      <th>2</th>\n",
       "      <td>Boston Police Headquarters</td>\n",
       "      <td>policedepartments</td>\n",
       "      <td>1</td>\n",
       "      <td>42.334077</td>\n",
       "      <td>-71.090885</td>\n",
       "    </tr>\n",
       "    <tr>\n",
       "      <th>3</th>\n",
       "      <td>Somerville Fire Department</td>\n",
       "      <td>firedepartments</td>\n",
       "      <td>1</td>\n",
       "      <td>42.390857</td>\n",
       "      <td>-71.091024</td>\n",
       "    </tr>\n",
       "    <tr>\n",
       "      <th>4</th>\n",
       "      <td>Cambridge Police Department</td>\n",
       "      <td>policedepartments</td>\n",
       "      <td>1</td>\n",
       "      <td>42.367260</td>\n",
       "      <td>-71.086151</td>\n",
       "    </tr>\n",
       "  </tbody>\n",
       "</table>\n",
       "</div>"
      ],
      "text/plain": [
       "                               Business           Category  Lifeline  \\\n",
       "0              Boston Police Department  policedepartments         1   \n",
       "1  Harvard University Police Department  policedepartments         1   \n",
       "2            Boston Police Headquarters  policedepartments         1   \n",
       "3            Somerville Fire Department    firedepartments         1   \n",
       "4           Cambridge Police Department  policedepartments         1   \n",
       "\n",
       "    Latitude  Longitude  \n",
       "0  42.361798 -71.060297  \n",
       "1  42.369935 -71.112013  \n",
       "2  42.334077 -71.090885  \n",
       "3  42.390857 -71.091024  \n",
       "4  42.367260 -71.086151  "
      ]
     },
     "execution_count": 23,
     "metadata": {},
     "output_type": "execute_result"
    }
   ],
   "source": [
    "df_safety.head()"
   ]
  },
  {
   "cell_type": "code",
   "execution_count": null,
   "metadata": {},
   "outputs": [],
   "source": [
    "df_safety.to_csv(''../datasets/rel.csv',index=False)"
   ]
  },
  {
   "cell_type": "markdown",
   "metadata": {},
   "source": [
    "#### <i>Repeat Process for the Remaining Lifelines"
   ]
  },
  {
   "cell_type": "markdown",
   "metadata": {},
   "source": [
    "## (2) Food, Water, Sheltering\n"
   ]
  },
  {
   "cell_type": "code",
   "execution_count": null,
   "metadata": {},
   "outputs": [],
   "source": [
    "params_food_shelter = {'categories':['foodbanks',\n",
    "                                     'animalshelters',\n",
    "                                    'homelessshelters',\n",
    "                                    'communitycenters'],\n",
    "                       'location':'Boston',\n",
    "                       'limit': 50,\n",
    "                       'radius':40000}\n"
   ]
  },
  {
   "cell_type": "code",
   "execution_count": null,
   "metadata": {
    "scrolled": true
   },
   "outputs": [],
   "source": [
    "req=requests.get(url, params_food_shelter, headers=headers)\n",
    "\n",
    "# proceed only if the status code is 200\n",
    "print('The status code is {}'.format(req.status_code))"
   ]
  },
  {
   "cell_type": "code",
   "execution_count": null,
   "metadata": {},
   "outputs": [],
   "source": [
    "data = req.json()\n",
    "posts_food_shelter = data['businesses']\n",
    "len(posts_food_shelter)"
   ]
  },
  {
   "cell_type": "code",
   "execution_count": null,
   "metadata": {},
   "outputs": [],
   "source": [
    "names = []\n",
    "categories = []\n",
    "for i in range(len(posts_food_shelter)):\n",
    "    names.append(posts_food_shelter[i]['name'])\n",
    "    categories.append(posts_food_shelter[i]['categories'][0]['alias'])"
   ]
  },
  {
   "cell_type": "code",
   "execution_count": null,
   "metadata": {},
   "outputs": [],
   "source": [
    "df_food_shelter = pd.DataFrame(columns = ['Business', 'Category'])\n",
    "df_food_shelter['Business'] = names\n",
    "df_food_shelter['Category'] = categories\n",
    "df_food_shelter['Lifeline'] = 2\n",
    "df_food_shelter.head()"
   ]
  },
  {
   "cell_type": "code",
   "execution_count": null,
   "metadata": {},
   "outputs": [],
   "source": [
    "df_food_shelter.shape"
   ]
  },
  {
   "cell_type": "markdown",
   "metadata": {},
   "source": [
    "## (3) Health and Medical\n"
   ]
  },
  {
   "cell_type": "code",
   "execution_count": null,
   "metadata": {},
   "outputs": [],
   "source": [
    "params_health_medical = {'categories':['emergencymedicine',\n",
    "                                    'emergencyrooms',\n",
    "                                    'hospitals',\n",
    "                                      'medcenters'],\n",
    "                       'location':'Boston',\n",
    "                       'limit': 50,\n",
    "                       'radius':40000\n",
    "                        }"
   ]
  },
  {
   "cell_type": "code",
   "execution_count": null,
   "metadata": {},
   "outputs": [],
   "source": [
    "req=requests.get(url, params_health_medical, headers=headers)\n",
    "\n",
    "# proceed only if the status code is 200\n",
    "print('The status code is {}'.format(req.status_code))"
   ]
  },
  {
   "cell_type": "code",
   "execution_count": null,
   "metadata": {},
   "outputs": [],
   "source": [
    "data = req.json()\n",
    "posts_health_medical = data['businesses']\n",
    "len(posts_health_medical)"
   ]
  },
  {
   "cell_type": "code",
   "execution_count": null,
   "metadata": {},
   "outputs": [],
   "source": [
    "names = []\n",
    "categories = []\n",
    "for i in range(len(posts_health_medical)):\n",
    "    names.append(posts_health_medical[i]['name'])\n",
    "    categories.append(posts_health_medical[i]['categories'][0]['alias'])"
   ]
  },
  {
   "cell_type": "markdown",
   "metadata": {},
   "source": [
    "### Lifeline 3 - Health and Medical Offset 50"
   ]
  },
  {
   "cell_type": "code",
   "execution_count": null,
   "metadata": {},
   "outputs": [],
   "source": [
    "#added offset parameter\n",
    "params_health_medical = {'categories':['emergencymedicine',\n",
    "                                    'emergencyrooms',\n",
    "                                    'hospitals',\n",
    "                                      'medcenters'],\n",
    "                       'location':'Boston',\n",
    "                       'limit': 50,\n",
    "                       'radius':40000,\n",
    "                         'offset':50\n",
    "                        }\n",
    "\n",
    "req=requests.get(url, params_health_medical, headers=headers)\n",
    "\n",
    "# proceed only if the status code is 200\n",
    "print('The status code is {}'.format(req.status_code))"
   ]
  },
  {
   "cell_type": "code",
   "execution_count": null,
   "metadata": {},
   "outputs": [],
   "source": [
    "data = req.json()\n",
    "posts_health_medical = data['businesses']\n",
    "len(posts_health_medical)"
   ]
  },
  {
   "cell_type": "code",
   "execution_count": null,
   "metadata": {},
   "outputs": [],
   "source": [
    "#add to created lists\n",
    "for i in range(len(posts_health_medical)):\n",
    "    names.append(posts_health_medical[i]['name'])\n",
    "    categories.append(posts_health_medical[i]['categories'][0]['alias'])"
   ]
  },
  {
   "cell_type": "code",
   "execution_count": null,
   "metadata": {
    "scrolled": true
   },
   "outputs": [],
   "source": [
    "len(names)"
   ]
  },
  {
   "cell_type": "markdown",
   "metadata": {},
   "source": [
    "### Lifeline 3 - Health and Medical Offset 100"
   ]
  },
  {
   "cell_type": "code",
   "execution_count": null,
   "metadata": {},
   "outputs": [],
   "source": [
    "#offset = 100\n",
    "params_health_medical = {'categories':['emergencymedicine',\n",
    "                                    'emergencyrooms',\n",
    "                                    'hospitals',\n",
    "                                      'medcenters'],\n",
    "                       'location':'Boston',\n",
    "                       'limit': 50,\n",
    "                       'radius':40000,\n",
    "                         'offset':100\n",
    "                        }\n",
    "\n",
    "req=requests.get(url, params_health_medical, headers=headers)"
   ]
  },
  {
   "cell_type": "code",
   "execution_count": null,
   "metadata": {},
   "outputs": [],
   "source": [
    "# proceed only if the status code is 200\n",
    "print('The status code is {}'.format(req.status_code))"
   ]
  },
  {
   "cell_type": "code",
   "execution_count": null,
   "metadata": {},
   "outputs": [],
   "source": [
    "data = req.json()\n",
    "posts_health_medical = data['businesses']\n",
    "len(posts_health_medical)"
   ]
  },
  {
   "cell_type": "code",
   "execution_count": null,
   "metadata": {},
   "outputs": [],
   "source": [
    "for i in range(len(posts_health_medical)):\n",
    "    names.append(posts_health_medical[i]['name'])\n",
    "    categories.append(posts_health_medical[i]['categories'][0]['alias'])"
   ]
  },
  {
   "cell_type": "code",
   "execution_count": null,
   "metadata": {},
   "outputs": [],
   "source": [
    "len(names)"
   ]
  },
  {
   "cell_type": "markdown",
   "metadata": {},
   "source": [
    "### Lifeline 3 - Health and Medical Offset 150"
   ]
  },
  {
   "cell_type": "code",
   "execution_count": null,
   "metadata": {},
   "outputs": [],
   "source": [
    "#offset = 150\n",
    "params_health_medical = {'categories':['emergencymedicine',\n",
    "                                    'emergencyrooms',\n",
    "                                    'hospitals',\n",
    "                                      'medcenters'],\n",
    "                       'location':'Boston',\n",
    "                       'limit': 50,\n",
    "                       'radius':40000,\n",
    "                         'offset':150\n",
    "                        }\n",
    "\n",
    "req=requests.get(url, params_health_medical, headers=headers)"
   ]
  },
  {
   "cell_type": "code",
   "execution_count": null,
   "metadata": {},
   "outputs": [],
   "source": [
    "# proceed only if the status code is 200\n",
    "print('The status code is {}'.format(req.status_code))"
   ]
  },
  {
   "cell_type": "code",
   "execution_count": null,
   "metadata": {},
   "outputs": [],
   "source": [
    "len(posts_health_medical)"
   ]
  },
  {
   "cell_type": "code",
   "execution_count": null,
   "metadata": {},
   "outputs": [],
   "source": [
    "for i in range(len(posts_health_medical)):\n",
    "    names.append(posts_health_medical[i]['name'])\n",
    "    categories.append(posts_health_medical[i]['categories'][0]['alias'])"
   ]
  },
  {
   "cell_type": "code",
   "execution_count": null,
   "metadata": {},
   "outputs": [],
   "source": [
    "len(names)"
   ]
  },
  {
   "cell_type": "markdown",
   "metadata": {},
   "source": [
    "### Lifeline 3 - Health and Medical Offset 200"
   ]
  },
  {
   "cell_type": "code",
   "execution_count": null,
   "metadata": {},
   "outputs": [],
   "source": [
    "#offset = 200\n",
    "params_health_medical = {'categories':['emergencymedicine',\n",
    "                                    'emergencyrooms',\n",
    "                                    'hospitals',\n",
    "                                      'medcenters'],\n",
    "                       'location':'Boston',\n",
    "                       'limit': 50,\n",
    "                       'radius':40000,\n",
    "                         'offset':200\n",
    "                        }"
   ]
  },
  {
   "cell_type": "code",
   "execution_count": null,
   "metadata": {},
   "outputs": [],
   "source": [
    "req=requests.get(url, params_health_medical, headers=headers)\n",
    "print('The status code is {}'.format(req.status_code))"
   ]
  },
  {
   "cell_type": "code",
   "execution_count": null,
   "metadata": {},
   "outputs": [],
   "source": [
    "len(posts_health_medical)"
   ]
  },
  {
   "cell_type": "code",
   "execution_count": null,
   "metadata": {},
   "outputs": [],
   "source": [
    "for i in range(len(posts_health_medical)):\n",
    "    names.append(posts_health_medical[i]['name'])\n",
    "    categories.append(posts_health_medical[i]['categories'][0]['alias'])"
   ]
  },
  {
   "cell_type": "code",
   "execution_count": null,
   "metadata": {},
   "outputs": [],
   "source": [
    "len(names)"
   ]
  },
  {
   "cell_type": "markdown",
   "metadata": {},
   "source": [
    "### Lifeline 3 - Health and Medical Offset 250"
   ]
  },
  {
   "cell_type": "code",
   "execution_count": null,
   "metadata": {},
   "outputs": [],
   "source": [
    "#offset = 250\n",
    "params_health_medical = {'categories':['emergencymedicine',\n",
    "                                    'emergencyrooms',\n",
    "                                    'hospitals',\n",
    "                                      'medcenters'],\n",
    "                       'location':'Boston',\n",
    "                       'limit': 50,\n",
    "                       'radius':40000,\n",
    "                         'offset':250\n",
    "                        }"
   ]
  },
  {
   "cell_type": "code",
   "execution_count": null,
   "metadata": {},
   "outputs": [],
   "source": [
    "req=requests.get(url, params_health_medical, headers=headers)\n",
    "print('The status code is {}'.format(req.status_code))"
   ]
  },
  {
   "cell_type": "code",
   "execution_count": null,
   "metadata": {},
   "outputs": [],
   "source": [
    "len(posts_health_medical)"
   ]
  },
  {
   "cell_type": "code",
   "execution_count": null,
   "metadata": {},
   "outputs": [],
   "source": [
    "for i in range(len(posts_health_medical)):\n",
    "    names.append(posts_health_medical[i]['name'])\n",
    "    categories.append(posts_health_medical[i]['categories'][0]['alias'])"
   ]
  },
  {
   "cell_type": "code",
   "execution_count": null,
   "metadata": {},
   "outputs": [],
   "source": [
    "len(names)"
   ]
  },
  {
   "cell_type": "markdown",
   "metadata": {},
   "source": [
    "### Lifeline 3 - Health and Medical Offset 300"
   ]
  },
  {
   "cell_type": "code",
   "execution_count": null,
   "metadata": {},
   "outputs": [],
   "source": [
    "#offset = 300\n",
    "params_health_medical = {'categories':['emergencymedicine',\n",
    "                                    'emergencyrooms',\n",
    "                                    'hospitals',\n",
    "                                      'medcenters'],\n",
    "                       'location':'Boston',\n",
    "                       'limit': 50,\n",
    "                       'radius':40000,\n",
    "                         'offset':300\n",
    "                        }"
   ]
  },
  {
   "cell_type": "code",
   "execution_count": null,
   "metadata": {},
   "outputs": [],
   "source": [
    "req=requests.get(url, params_health_medical, headers=headers)\n",
    "print('The status code is {}'.format(req.status_code))"
   ]
  },
  {
   "cell_type": "code",
   "execution_count": null,
   "metadata": {},
   "outputs": [],
   "source": [
    "len(posts_health_medical)"
   ]
  },
  {
   "cell_type": "code",
   "execution_count": null,
   "metadata": {},
   "outputs": [],
   "source": [
    "for i in range(len(posts_health_medical)):\n",
    "    names.append(posts_health_medical[i]['name'])\n",
    "    categories.append(posts_health_medical[i]['categories'][0]['alias'])"
   ]
  },
  {
   "cell_type": "code",
   "execution_count": null,
   "metadata": {},
   "outputs": [],
   "source": [
    "len(names)"
   ]
  },
  {
   "cell_type": "markdown",
   "metadata": {},
   "source": [
    "### Lifeline 3 - Health and Medical Offset 350"
   ]
  },
  {
   "cell_type": "code",
   "execution_count": null,
   "metadata": {},
   "outputs": [],
   "source": [
    "#offset = 350\n",
    "params_health_medical = {'categories':['emergencymedicine',\n",
    "                                    'emergencyrooms',\n",
    "                                    'hospitals',\n",
    "                                      'medcenters'],\n",
    "                       'location':'Boston',\n",
    "                       'limit': 50,\n",
    "                       'radius':40000,\n",
    "                         'offset':350\n",
    "                        }"
   ]
  },
  {
   "cell_type": "code",
   "execution_count": null,
   "metadata": {},
   "outputs": [],
   "source": [
    "req=requests.get(url, params_health_medical, headers=headers)\n",
    "print('The status code is {}'.format(req.status_code))"
   ]
  },
  {
   "cell_type": "code",
   "execution_count": null,
   "metadata": {},
   "outputs": [],
   "source": [
    "len(posts_health_medical)"
   ]
  },
  {
   "cell_type": "code",
   "execution_count": null,
   "metadata": {},
   "outputs": [],
   "source": [
    "for i in range(len(posts_health_medical)):\n",
    "    names.append(posts_health_medical[i]['name'])\n",
    "    categories.append(posts_health_medical[i]['categories'][0]['alias'])"
   ]
  },
  {
   "cell_type": "code",
   "execution_count": null,
   "metadata": {},
   "outputs": [],
   "source": [
    "len(names)"
   ]
  },
  {
   "cell_type": "markdown",
   "metadata": {},
   "source": [
    "### Lifeline 3 - Health and Medical Offset 400"
   ]
  },
  {
   "cell_type": "code",
   "execution_count": null,
   "metadata": {},
   "outputs": [],
   "source": [
    "#offset = 400\n",
    "params_health_medical = {'categories':['emergencymedicine',\n",
    "                                    'emergencyrooms',\n",
    "                                    'hospitals',\n",
    "                                      'medcenters'],\n",
    "                       'location':'Boston',\n",
    "                       'limit': 50,\n",
    "                       'radius':40000,\n",
    "                         'offset':400\n",
    "                        }"
   ]
  },
  {
   "cell_type": "code",
   "execution_count": null,
   "metadata": {},
   "outputs": [],
   "source": [
    "req=requests.get(url, params_health_medical, headers=headers)\n",
    "print('The status code is {}'.format(req.status_code))"
   ]
  },
  {
   "cell_type": "code",
   "execution_count": null,
   "metadata": {},
   "outputs": [],
   "source": [
    "len(posts_health_medical)"
   ]
  },
  {
   "cell_type": "code",
   "execution_count": null,
   "metadata": {},
   "outputs": [],
   "source": [
    "for i in range(len(posts_health_medical)):\n",
    "    names.append(posts_health_medical[i]['name'])\n",
    "    categories.append(posts_health_medical[i]['categories'][0]['alias'])"
   ]
  },
  {
   "cell_type": "code",
   "execution_count": null,
   "metadata": {},
   "outputs": [],
   "source": [
    "len(names)"
   ]
  },
  {
   "cell_type": "markdown",
   "metadata": {},
   "source": [
    "### Lifeline 3 - Health and Medical Offset 450"
   ]
  },
  {
   "cell_type": "code",
   "execution_count": null,
   "metadata": {},
   "outputs": [],
   "source": [
    "#offset = 450\n",
    "params_health_medical = {'categories':['emergencymedicine',\n",
    "                                    'emergencyrooms',\n",
    "                                    'hospitals',\n",
    "                                      'medcenters'],\n",
    "                       'location':'Boston',\n",
    "                       'limit': 50,\n",
    "                       'radius':40000,\n",
    "                         'offset':450\n",
    "                        }"
   ]
  },
  {
   "cell_type": "code",
   "execution_count": null,
   "metadata": {},
   "outputs": [],
   "source": [
    "req=requests.get(url, params_health_medical, headers=headers)\n",
    "print('The status code is {}'.format(req.status_code))"
   ]
  },
  {
   "cell_type": "code",
   "execution_count": null,
   "metadata": {},
   "outputs": [],
   "source": [
    "len(posts_health_medical)"
   ]
  },
  {
   "cell_type": "code",
   "execution_count": null,
   "metadata": {},
   "outputs": [],
   "source": [
    "for i in range(len(posts_health_medical)):\n",
    "    names.append(posts_health_medical[i]['name'])\n",
    "    categories.append(posts_health_medical[i]['categories'][0]['alias'])"
   ]
  },
  {
   "cell_type": "code",
   "execution_count": null,
   "metadata": {},
   "outputs": [],
   "source": [
    "len(names)"
   ]
  },
  {
   "cell_type": "markdown",
   "metadata": {},
   "source": [
    "### Lifeline 3 - Health and Medical Offset 500"
   ]
  },
  {
   "cell_type": "code",
   "execution_count": null,
   "metadata": {},
   "outputs": [],
   "source": [
    "#offset = 500\n",
    "params_health_medical = {'categories':['emergencymedicine',\n",
    "                                    'emergencyrooms',\n",
    "                                    'hospitals',\n",
    "                                      'medcenters'],\n",
    "                       'location':'Boston',\n",
    "                       'limit': 50,\n",
    "                       'radius':40000,\n",
    "                         'offset':500\n",
    "                        }"
   ]
  },
  {
   "cell_type": "code",
   "execution_count": null,
   "metadata": {},
   "outputs": [],
   "source": [
    "req=requests.get(url, params_health_medical, headers=headers)\n",
    "print('The status code is {}'.format(req.status_code))"
   ]
  },
  {
   "cell_type": "code",
   "execution_count": null,
   "metadata": {},
   "outputs": [],
   "source": [
    "len(posts_health_medical)"
   ]
  },
  {
   "cell_type": "code",
   "execution_count": null,
   "metadata": {},
   "outputs": [],
   "source": [
    "for i in range(len(posts_health_medical)):\n",
    "    names.append(posts_health_medical[i]['name'])\n",
    "    categories.append(posts_health_medical[i]['categories'][0]['alias'])"
   ]
  },
  {
   "cell_type": "code",
   "execution_count": null,
   "metadata": {},
   "outputs": [],
   "source": [
    "len(names)"
   ]
  },
  {
   "cell_type": "markdown",
   "metadata": {},
   "source": [
    "### Lifeline 3 - Health and Medical Offset 550"
   ]
  },
  {
   "cell_type": "code",
   "execution_count": null,
   "metadata": {},
   "outputs": [],
   "source": [
    "#offset = 550\n",
    "params_health_medical = {'categories':['emergencymedicine',\n",
    "                                    'emergencyrooms',\n",
    "                                    'hospitals',\n",
    "                                      'medcenters'],\n",
    "                       'location':'Boston',\n",
    "                       'limit': 50,\n",
    "                       'radius':40000,\n",
    "                         'offset':550\n",
    "                        }"
   ]
  },
  {
   "cell_type": "code",
   "execution_count": null,
   "metadata": {},
   "outputs": [],
   "source": [
    "req=requests.get(url, params_health_medical, headers=headers)\n",
    "print('The status code is {}'.format(req.status_code))"
   ]
  },
  {
   "cell_type": "code",
   "execution_count": null,
   "metadata": {},
   "outputs": [],
   "source": [
    "len(posts_health_medical)"
   ]
  },
  {
   "cell_type": "code",
   "execution_count": null,
   "metadata": {},
   "outputs": [],
   "source": [
    "for i in range(len(posts_health_medical)):\n",
    "    names.append(posts_health_medical[i]['name'])\n",
    "    categories.append(posts_health_medical[i]['categories'][0]['alias'])"
   ]
  },
  {
   "cell_type": "code",
   "execution_count": null,
   "metadata": {},
   "outputs": [],
   "source": [
    "len(names)"
   ]
  },
  {
   "cell_type": "markdown",
   "metadata": {},
   "source": [
    "### Lifeline 3 - Health and Medical Offset 600"
   ]
  },
  {
   "cell_type": "code",
   "execution_count": null,
   "metadata": {},
   "outputs": [],
   "source": [
    "params_health_medical = {'categories':['emergencymedicine',\n",
    "                                    'emergencyrooms',\n",
    "                                    'hospitals',\n",
    "                                      'medcenters'],\n",
    "                       'location':'Boston',\n",
    "                       'limit': 50,\n",
    "                       'radius':40000,\n",
    "                         'offset':600\n",
    "                        }"
   ]
  },
  {
   "cell_type": "code",
   "execution_count": null,
   "metadata": {},
   "outputs": [],
   "source": [
    "req=requests.get(url, params_health_medical, headers=headers)\n",
    "print('The status code is {}'.format(req.status_code))"
   ]
  },
  {
   "cell_type": "code",
   "execution_count": null,
   "metadata": {},
   "outputs": [],
   "source": [
    "len(posts_health_medical)"
   ]
  },
  {
   "cell_type": "code",
   "execution_count": null,
   "metadata": {},
   "outputs": [],
   "source": [
    "for i in range(len(posts_health_medical)):\n",
    "    names.append(posts_health_medical[i]['name'])\n",
    "    categories.append(posts_health_medical[i]['categories'][0]['alias'])"
   ]
  },
  {
   "cell_type": "code",
   "execution_count": null,
   "metadata": {},
   "outputs": [],
   "source": [
    "len(names)"
   ]
  },
  {
   "cell_type": "markdown",
   "metadata": {},
   "source": [
    "### Lifeline 3 - Health and Medical Offset 650"
   ]
  },
  {
   "cell_type": "code",
   "execution_count": null,
   "metadata": {},
   "outputs": [],
   "source": [
    "params_health_medical = {'categories':['emergencymedicine',\n",
    "                                    'emergencyrooms',\n",
    "                                    'hospitals',\n",
    "                                      'medcenters'],\n",
    "                       'location':'Boston',\n",
    "                       'limit': 50,\n",
    "                       'radius':40000,\n",
    "                         'offset':650\n",
    "                        }"
   ]
  },
  {
   "cell_type": "code",
   "execution_count": null,
   "metadata": {},
   "outputs": [],
   "source": [
    "req=requests.get(url, params_health_medical, headers=headers)\n",
    "print('The status code is {}'.format(req.status_code))"
   ]
  },
  {
   "cell_type": "code",
   "execution_count": null,
   "metadata": {},
   "outputs": [],
   "source": [
    "len(posts_health_medical)"
   ]
  },
  {
   "cell_type": "code",
   "execution_count": null,
   "metadata": {},
   "outputs": [],
   "source": [
    "for i in range(len(posts_health_medical)):\n",
    "    names.append(posts_health_medical[i]['name'])\n",
    "    categories.append(posts_health_medical[i]['categories'][0]['alias'])"
   ]
  },
  {
   "cell_type": "code",
   "execution_count": null,
   "metadata": {},
   "outputs": [],
   "source": [
    "len(names)"
   ]
  },
  {
   "cell_type": "markdown",
   "metadata": {},
   "source": [
    "### Lifeline 3 - Health and Medical Offset 700"
   ]
  },
  {
   "cell_type": "code",
   "execution_count": null,
   "metadata": {},
   "outputs": [],
   "source": [
    "params_health_medical = {'categories':['emergencymedicine',\n",
    "                                    'emergencyrooms',\n",
    "                                    'hospitals',\n",
    "                                      'medcenters'],\n",
    "                       'location':'Boston',\n",
    "                       'limit': 50,\n",
    "                       'radius':40000,\n",
    "                         'offset':700\n",
    "                        }"
   ]
  },
  {
   "cell_type": "code",
   "execution_count": null,
   "metadata": {},
   "outputs": [],
   "source": [
    "req=requests.get(url, params_health_medical, headers=headers)\n",
    "print('The status code is {}'.format(req.status_code))"
   ]
  },
  {
   "cell_type": "code",
   "execution_count": null,
   "metadata": {},
   "outputs": [],
   "source": [
    "len(posts_health_medical)"
   ]
  },
  {
   "cell_type": "code",
   "execution_count": null,
   "metadata": {},
   "outputs": [],
   "source": [
    "for i in range(len(posts_health_medical)):\n",
    "    names.append(posts_health_medical[i]['name'])\n",
    "    categories.append(posts_health_medical[i]['categories'][0]['alias'])"
   ]
  },
  {
   "cell_type": "code",
   "execution_count": null,
   "metadata": {},
   "outputs": [],
   "source": [
    "len(names)"
   ]
  },
  {
   "cell_type": "markdown",
   "metadata": {},
   "source": [
    "### Lifeline 3 - Health and Medical Offset 750"
   ]
  },
  {
   "cell_type": "code",
   "execution_count": null,
   "metadata": {},
   "outputs": [],
   "source": [
    "params_health_medical = {'categories':['emergencymedicine',\n",
    "                                    'emergencyrooms',\n",
    "                                    'hospitals',\n",
    "                                      'medcenters'],\n",
    "                       'location':'Boston',\n",
    "                       'limit': 50,\n",
    "                       'radius':40000,\n",
    "                         'offset':750\n",
    "                        }"
   ]
  },
  {
   "cell_type": "code",
   "execution_count": null,
   "metadata": {},
   "outputs": [],
   "source": [
    "req=requests.get(url, params_health_medical, headers=headers)\n",
    "print('The status code is {}'.format(req.status_code))"
   ]
  },
  {
   "cell_type": "code",
   "execution_count": null,
   "metadata": {},
   "outputs": [],
   "source": [
    "len(posts_health_medical)"
   ]
  },
  {
   "cell_type": "code",
   "execution_count": null,
   "metadata": {},
   "outputs": [],
   "source": [
    "for i in range(len(posts_health_medical)):\n",
    "    names.append(posts_health_medical[i]['name'])\n",
    "    categories.append(posts_health_medical[i]['categories'][0]['alias'])"
   ]
  },
  {
   "cell_type": "code",
   "execution_count": null,
   "metadata": {},
   "outputs": [],
   "source": [
    "len(names)"
   ]
  },
  {
   "cell_type": "markdown",
   "metadata": {},
   "source": [
    "### Lifeline 3 - Health and Medical Offset 800"
   ]
  },
  {
   "cell_type": "code",
   "execution_count": null,
   "metadata": {},
   "outputs": [],
   "source": [
    "params_health_medical = {'categories':['emergencymedicine',\n",
    "                                    'emergencyrooms',\n",
    "                                    'hospitals',\n",
    "                                      'medcenters'],\n",
    "                       'location':'Boston',\n",
    "                       'limit': 50,\n",
    "                       'radius':40000,\n",
    "                         'offset':800\n",
    "                        }"
   ]
  },
  {
   "cell_type": "code",
   "execution_count": null,
   "metadata": {},
   "outputs": [],
   "source": [
    "req=requests.get(url, params_health_medical, headers=headers)\n",
    "print('The status code is {}'.format(req.status_code))"
   ]
  },
  {
   "cell_type": "code",
   "execution_count": null,
   "metadata": {},
   "outputs": [],
   "source": [
    "len(posts_health_medical)"
   ]
  },
  {
   "cell_type": "code",
   "execution_count": null,
   "metadata": {},
   "outputs": [],
   "source": [
    "for i in range(len(posts_health_medical)):\n",
    "    names.append(posts_health_medical[i]['name'])\n",
    "    categories.append(posts_health_medical[i]['categories'][0]['alias'])"
   ]
  },
  {
   "cell_type": "code",
   "execution_count": null,
   "metadata": {},
   "outputs": [],
   "source": [
    "len(names)"
   ]
  },
  {
   "cell_type": "markdown",
   "metadata": {},
   "source": [
    "### Lifeline 3 - Health and Medical Offset 850"
   ]
  },
  {
   "cell_type": "code",
   "execution_count": null,
   "metadata": {},
   "outputs": [],
   "source": [
    "params_health_medical = {'categories':['emergencymedicine',\n",
    "                                    'emergencyrooms',\n",
    "                                    'hospitals',\n",
    "                                      'medcenters'],\n",
    "                       'location':'Boston',\n",
    "                       'limit': 50,\n",
    "                       'radius':40000,\n",
    "                         'offset':850\n",
    "                        }"
   ]
  },
  {
   "cell_type": "code",
   "execution_count": null,
   "metadata": {},
   "outputs": [],
   "source": [
    "req=requests.get(url, params_health_medical, headers=headers)\n",
    "print('The status code is {}'.format(req.status_code))"
   ]
  },
  {
   "cell_type": "code",
   "execution_count": null,
   "metadata": {},
   "outputs": [],
   "source": [
    "len(posts_health_medical)"
   ]
  },
  {
   "cell_type": "code",
   "execution_count": null,
   "metadata": {},
   "outputs": [],
   "source": [
    "for i in range(len(posts_health_medical)):\n",
    "    names.append(posts_health_medical[i]['name'])\n",
    "    categories.append(posts_health_medical[i]['categories'][0]['alias'])"
   ]
  },
  {
   "cell_type": "code",
   "execution_count": null,
   "metadata": {},
   "outputs": [],
   "source": [
    "len(names)"
   ]
  },
  {
   "cell_type": "markdown",
   "metadata": {},
   "source": [
    "### Lifeline 3 - Health and Medical Offset 900"
   ]
  },
  {
   "cell_type": "code",
   "execution_count": null,
   "metadata": {},
   "outputs": [],
   "source": [
    "params_health_medical = {'categories':['emergencymedicine',\n",
    "                                    'emergencyrooms',\n",
    "                                    'hospitals',\n",
    "                                      'medcenters'],\n",
    "                       'location':'Boston',\n",
    "                       'limit': 50,\n",
    "                       'radius':40000,\n",
    "                         'offset':900\n",
    "                        }"
   ]
  },
  {
   "cell_type": "code",
   "execution_count": null,
   "metadata": {},
   "outputs": [],
   "source": [
    "req=requests.get(url, params_health_medical, headers=headers)\n",
    "print('The status code is {}'.format(req.status_code))"
   ]
  },
  {
   "cell_type": "code",
   "execution_count": null,
   "metadata": {},
   "outputs": [],
   "source": [
    "len(posts_health_medical)"
   ]
  },
  {
   "cell_type": "code",
   "execution_count": null,
   "metadata": {},
   "outputs": [],
   "source": [
    "for i in range(len(posts_health_medical)):\n",
    "    names.append(posts_health_medical[i]['name'])\n",
    "    categories.append(posts_health_medical[i]['categories'][0]['alias'])"
   ]
  },
  {
   "cell_type": "code",
   "execution_count": null,
   "metadata": {},
   "outputs": [],
   "source": [
    "len(names)"
   ]
  },
  {
   "cell_type": "markdown",
   "metadata": {},
   "source": [
    "### Lifeline 3 - Health and Medical Offset 950"
   ]
  },
  {
   "cell_type": "code",
   "execution_count": null,
   "metadata": {},
   "outputs": [],
   "source": [
    "params_health_medical = {'categories':['emergencymedicine',\n",
    "                                    'emergencyrooms',\n",
    "                                    'hospitals',\n",
    "                                      'medcenters'],\n",
    "                       'location':'Boston',\n",
    "                       'limit': 50,\n",
    "                       'radius':40000,\n",
    "                         'offset':950\n",
    "                        }"
   ]
  },
  {
   "cell_type": "code",
   "execution_count": null,
   "metadata": {},
   "outputs": [],
   "source": [
    "req=requests.get(url, params_health_medical, headers=headers)\n",
    "print('The status code is {}'.format(req.status_code))"
   ]
  },
  {
   "cell_type": "code",
   "execution_count": null,
   "metadata": {},
   "outputs": [],
   "source": [
    "len(posts_health_medical)"
   ]
  },
  {
   "cell_type": "code",
   "execution_count": null,
   "metadata": {},
   "outputs": [],
   "source": [
    "for i in range(len(posts_health_medical)):\n",
    "    names.append(posts_health_medical[i]['name'])\n",
    "    categories.append(posts_health_medical[i]['categories'][0]['alias'])"
   ]
  },
  {
   "cell_type": "code",
   "execution_count": null,
   "metadata": {},
   "outputs": [],
   "source": [
    "len(names)"
   ]
  },
  {
   "cell_type": "markdown",
   "metadata": {},
   "source": [
    "### Lifeline 3 - Health and Medical Offset 1000"
   ]
  },
  {
   "cell_type": "code",
   "execution_count": null,
   "metadata": {},
   "outputs": [],
   "source": [
    "params_health_medical = {'categories':['emergencymedicine',\n",
    "                                    'emergencyrooms',\n",
    "                                    'hospitals',\n",
    "                                      'medcenters'],\n",
    "                       'location':'Boston',\n",
    "                       'limit': 50,\n",
    "                       'radius':40000,\n",
    "                         'offset':1000\n",
    "                        }"
   ]
  },
  {
   "cell_type": "code",
   "execution_count": null,
   "metadata": {},
   "outputs": [],
   "source": [
    "req=requests.get(url, params_health_medical, headers=headers)\n",
    "print('The status code is {}'.format(req.status_code))"
   ]
  },
  {
   "cell_type": "code",
   "execution_count": null,
   "metadata": {},
   "outputs": [],
   "source": []
  },
  {
   "cell_type": "code",
   "execution_count": null,
   "metadata": {},
   "outputs": [],
   "source": [
    "df_health_medical = pd.DataFrame(columns=['Business', 'Category'])\n",
    "df_health_medical['Business'] = names\n",
    "df_health_medical['Category'] = categories\n",
    "df_health_medical['Lifeline'] = 3\n",
    "df_health_medical.head()"
   ]
  },
  {
   "cell_type": "code",
   "execution_count": null,
   "metadata": {},
   "outputs": [],
   "source": [
    "df_health_medical.shape"
   ]
  },
  {
   "cell_type": "markdown",
   "metadata": {},
   "source": [
    "## (4) Energy (power, fuel)\n"
   ]
  },
  {
   "cell_type": "code",
   "execution_count": null,
   "metadata": {},
   "outputs": [],
   "source": [
    "#rework params to not inclue restaurants like kung fu tea\n",
    "params_power_fuel = {'categories':['fueldocks',\n",
    "                                   'servicestations',\n",
    "                                   'utilities',\n",
    "                                   'electricitysuppliers',\n",
    "                                   'naturalgassuppliers',\n",
    "                                   'watersuppliers'],\n",
    "                       'location':'Boston',\n",
    "                       'limit': 50,\n",
    "                       'radius':40000\n",
    "                        }"
   ]
  },
  {
   "cell_type": "code",
   "execution_count": null,
   "metadata": {},
   "outputs": [],
   "source": [
    "req=requests.get(url, params_power_fuel, headers=headers)\n",
    "\n",
    "# proceed only if the status code is 200\n",
    "print('The status code is {}'.format(req.status_code))"
   ]
  },
  {
   "cell_type": "code",
   "execution_count": null,
   "metadata": {},
   "outputs": [],
   "source": [
    "data = req.json()\n",
    "posts_power_fuel = data['businesses']\n",
    "len(posts_power_fuel)"
   ]
  },
  {
   "cell_type": "code",
   "execution_count": null,
   "metadata": {},
   "outputs": [],
   "source": [
    "names = []\n",
    "categories = []\n",
    "for i in range(len(posts_power_fuel)):\n",
    "    names.append(posts_power_fuel[i]['name'])\n",
    "    categories.append(posts_power_fuel[i]['categories'][0]['alias'])"
   ]
  },
  {
   "cell_type": "code",
   "execution_count": null,
   "metadata": {},
   "outputs": [],
   "source": [
    "len(names)"
   ]
  },
  {
   "cell_type": "markdown",
   "metadata": {},
   "source": [
    "### Lifeline 4 - Energy Offset 50"
   ]
  },
  {
   "cell_type": "code",
   "execution_count": null,
   "metadata": {},
   "outputs": [],
   "source": [
    "params_power_fuel = {'categories':['fueldocks',\n",
    "                                   'servicestations',\n",
    "                                   'utilities',\n",
    "                                   'electricitysuppliers',\n",
    "                                   'naturalgassuppliers',\n",
    "                                   'watersuppliers'],\n",
    "                       'location':'Boston',\n",
    "                       'limit': 50,\n",
    "                       'radius':40000,\n",
    "                       'offset':50\n",
    "                        }"
   ]
  },
  {
   "cell_type": "code",
   "execution_count": null,
   "metadata": {},
   "outputs": [],
   "source": [
    "req=requests.get(url, params_power_fuel, headers=headers)\n",
    "\n",
    "# proceed only if the status code is 200\n",
    "print('The status code is {}'.format(req.status_code))"
   ]
  },
  {
   "cell_type": "code",
   "execution_count": null,
   "metadata": {},
   "outputs": [],
   "source": [
    "data = req.json()\n",
    "posts_power_fuel = data['businesses']\n",
    "len(posts_power_fuel)"
   ]
  },
  {
   "cell_type": "code",
   "execution_count": null,
   "metadata": {},
   "outputs": [],
   "source": [
    "for i in range(len(posts_power_fuel)):\n",
    "    names.append(posts_power_fuel[i]['name'])\n",
    "    categories.append(posts_power_fuel[i]['categories'][0]['alias'])"
   ]
  },
  {
   "cell_type": "code",
   "execution_count": null,
   "metadata": {},
   "outputs": [],
   "source": [
    "len(names)"
   ]
  },
  {
   "cell_type": "markdown",
   "metadata": {},
   "source": [
    "### Lifeline 4 - Energy Offset 100"
   ]
  },
  {
   "cell_type": "code",
   "execution_count": null,
   "metadata": {},
   "outputs": [],
   "source": [
    "params_power_fuel = {'categories':['fueldocks',\n",
    "                                   'servicestations',\n",
    "                                   'utilities',\n",
    "                                   'electricitysuppliers',\n",
    "                                   'naturalgassuppliers',\n",
    "                                   'watersuppliers'],\n",
    "                       'location':'Boston',\n",
    "                       'limit': 50,\n",
    "                       'radius':40000,\n",
    "                       'offset':100\n",
    "                        }"
   ]
  },
  {
   "cell_type": "code",
   "execution_count": null,
   "metadata": {},
   "outputs": [],
   "source": [
    "req=requests.get(url, params_power_fuel, headers=headers)\n",
    "\n",
    "# proceed only if the status code is 200\n",
    "print('The status code is {}'.format(req.status_code))"
   ]
  },
  {
   "cell_type": "code",
   "execution_count": null,
   "metadata": {},
   "outputs": [],
   "source": [
    "data = req.json()\n",
    "posts_power_fuel = data['businesses']\n",
    "len(posts_power_fuel)"
   ]
  },
  {
   "cell_type": "code",
   "execution_count": null,
   "metadata": {},
   "outputs": [],
   "source": [
    "for i in range(len(posts_power_fuel)):\n",
    "    names.append(posts_power_fuel[i]['name'])\n",
    "    categories.append(posts_power_fuel[i]['categories'][0]['alias'])"
   ]
  },
  {
   "cell_type": "code",
   "execution_count": null,
   "metadata": {},
   "outputs": [],
   "source": [
    "len(names)"
   ]
  },
  {
   "cell_type": "markdown",
   "metadata": {},
   "source": [
    "### Lifeline 4 - Energy Offset 150"
   ]
  },
  {
   "cell_type": "code",
   "execution_count": null,
   "metadata": {},
   "outputs": [],
   "source": [
    "params_power_fuel = {'categories':['fueldocks',\n",
    "                                   'servicestations',\n",
    "                                   'utilities',\n",
    "                                   'electricitysuppliers',\n",
    "                                   'naturalgassuppliers',\n",
    "                                   'watersuppliers'],\n",
    "                       'location':'Boston',\n",
    "                       'limit': 50,\n",
    "                       'radius':40000,\n",
    "                       'offset':150\n",
    "                        }"
   ]
  },
  {
   "cell_type": "code",
   "execution_count": null,
   "metadata": {},
   "outputs": [],
   "source": [
    "req=requests.get(url, params_power_fuel, headers=headers)\n",
    "\n",
    "# proceed only if the status code is 200\n",
    "print('The status code is {}'.format(req.status_code))"
   ]
  },
  {
   "cell_type": "code",
   "execution_count": null,
   "metadata": {},
   "outputs": [],
   "source": [
    "data = req.json()\n",
    "posts_power_fuel = data['businesses']\n",
    "len(posts_power_fuel)"
   ]
  },
  {
   "cell_type": "code",
   "execution_count": null,
   "metadata": {},
   "outputs": [],
   "source": [
    "for i in range(len(posts_power_fuel)):\n",
    "    names.append(posts_power_fuel[i]['name'])\n",
    "    categories.append(posts_power_fuel[i]['categories'][0]['alias'])"
   ]
  },
  {
   "cell_type": "code",
   "execution_count": null,
   "metadata": {},
   "outputs": [],
   "source": [
    "len(names)"
   ]
  },
  {
   "cell_type": "markdown",
   "metadata": {},
   "source": [
    "## (5) Communication\n"
   ]
  },
  {
   "cell_type": "code",
   "execution_count": null,
   "metadata": {},
   "outputs": [],
   "source": [
    "#rework params to not inclue restaurants like kung fu tea\n",
    "params_communications = {'categories':['telecommunications',\n",
    "                                   'printmedia',\n",
    "                                   'radiostations',\n",
    "                                   'televisionstations',],\n",
    "                       'location':'Boston',\n",
    "                       'limit': 50,\n",
    "                       'radius':40000\n",
    "                        }"
   ]
  },
  {
   "cell_type": "code",
   "execution_count": null,
   "metadata": {},
   "outputs": [],
   "source": [
    "req=requests.get(url, params_communications, headers=headers)\n",
    "\n",
    "# proceed only if the status code is 200\n",
    "print('The status code is {}'.format(req.status_code))"
   ]
  },
  {
   "cell_type": "code",
   "execution_count": null,
   "metadata": {},
   "outputs": [],
   "source": [
    "data = req.json()\n",
    "posts_communications = data['businesses']\n",
    "len(posts_communications)"
   ]
  },
  {
   "cell_type": "code",
   "execution_count": null,
   "metadata": {},
   "outputs": [],
   "source": [
    "names = []\n",
    "categories = []\n",
    "for i in range(len(posts_communications)):\n",
    "    names.append(posts_communications[i]['name'])\n",
    "    categories.append(posts_communications[i]['categories'][0]['alias'])"
   ]
  },
  {
   "cell_type": "code",
   "execution_count": null,
   "metadata": {},
   "outputs": [],
   "source": [
    "len(names)"
   ]
  },
  {
   "cell_type": "markdown",
   "metadata": {},
   "source": [
    "### Lifeline 5 - Communication Offset 50"
   ]
  },
  {
   "cell_type": "code",
   "execution_count": null,
   "metadata": {},
   "outputs": [],
   "source": [
    "params_communications = {'categories':['telecommunications',\n",
    "                                   'printmedia',\n",
    "                                   'radiostations',\n",
    "                                   'televisionstations',],\n",
    "                       'location':'Boston',\n",
    "                       'limit': 50,\n",
    "                       'radius':40000,\n",
    "                       'offset':50\n",
    "                        }"
   ]
  },
  {
   "cell_type": "code",
   "execution_count": null,
   "metadata": {},
   "outputs": [],
   "source": [
    "req=requests.get(url, params_communications, headers=headers)\n",
    "\n",
    "# proceed only if the status code is 200\n",
    "print('The status code is {}'.format(req.status_code))"
   ]
  },
  {
   "cell_type": "code",
   "execution_count": null,
   "metadata": {},
   "outputs": [],
   "source": [
    "data = req.json()\n",
    "posts_communications = data['businesses']\n",
    "len(posts_communications)"
   ]
  },
  {
   "cell_type": "code",
   "execution_count": null,
   "metadata": {},
   "outputs": [],
   "source": [
    "for i in range(len(posts_communications)):\n",
    "    names.append(posts_communications[i]['name'])\n",
    "    categories.append(posts_communications[i]['categories'][0]['alias'])"
   ]
  },
  {
   "cell_type": "code",
   "execution_count": null,
   "metadata": {},
   "outputs": [],
   "source": [
    "len(names)"
   ]
  },
  {
   "cell_type": "markdown",
   "metadata": {},
   "source": [
    "### Lifeline 5 - Communication Offset 100"
   ]
  },
  {
   "cell_type": "code",
   "execution_count": null,
   "metadata": {},
   "outputs": [],
   "source": [
    "params_communications = {'categories':['telecommunications',\n",
    "                                   'printmedia',\n",
    "                                   'radiostations',\n",
    "                                   'televisionstations',],\n",
    "                       'location':'Boston',\n",
    "                       'limit': 50,\n",
    "                       'radius':40000,\n",
    "                       'offset':100\n",
    "                        }"
   ]
  },
  {
   "cell_type": "code",
   "execution_count": null,
   "metadata": {},
   "outputs": [],
   "source": [
    "req=requests.get(url, params_communications, headers=headers)\n",
    "\n",
    "# proceed only if the status code is 200\n",
    "print('The status code is {}'.format(req.status_code))"
   ]
  },
  {
   "cell_type": "code",
   "execution_count": null,
   "metadata": {},
   "outputs": [],
   "source": [
    "data = req.json()\n",
    "posts_communications = data['businesses']\n",
    "len(posts_communications)"
   ]
  },
  {
   "cell_type": "code",
   "execution_count": null,
   "metadata": {},
   "outputs": [],
   "source": [
    "for i in range(len(posts_communications)):\n",
    "    names.append(posts_communications[i]['name'])\n",
    "    categories.append(posts_communications[i]['categories'][0]['alias'])"
   ]
  },
  {
   "cell_type": "code",
   "execution_count": null,
   "metadata": {},
   "outputs": [],
   "source": [
    "len(names)"
   ]
  },
  {
   "cell_type": "code",
   "execution_count": null,
   "metadata": {},
   "outputs": [],
   "source": [
    "df_communication = pd.DataFrame(columns=['Business','Category'])\n",
    "df_communication['Business'] = names\n",
    "df_communication['Category'] = categories\n",
    "df_communication['Lifeline'] = 5\n",
    "df_communication.head()"
   ]
  },
  {
   "cell_type": "markdown",
   "metadata": {},
   "source": [
    "## (6) Transportation\n"
   ]
  },
  {
   "cell_type": "code",
   "execution_count": null,
   "metadata": {},
   "outputs": [],
   "source": [
    "#rework params to not inclue restaurants like kung fu tea\n",
    "params_transportation = {'categories':['airlines',\n",
    "                                   'busstations',\n",
    "                                   'ferries',\n",
    "                                   'metrostations',\n",
    "                                   'publictransport',\n",
    "                                   'trains',\n",
    "                                   'taxis'],\n",
    "                       'location':'Boston',\n",
    "                       'limit': 50,\n",
    "                       'radius':40000\n",
    "                        }"
   ]
  },
  {
   "cell_type": "code",
   "execution_count": null,
   "metadata": {},
   "outputs": [],
   "source": [
    "req=requests.get(url, params_transportation, headers=headers)\n",
    "\n",
    "# proceed only if the status code is 200\n",
    "print('The status code is {}'.format(req.status_code))"
   ]
  },
  {
   "cell_type": "code",
   "execution_count": null,
   "metadata": {},
   "outputs": [],
   "source": [
    "data = req.json()\n",
    "posts_transportation = data['businesses']\n",
    "len(posts_transportation)"
   ]
  },
  {
   "cell_type": "code",
   "execution_count": null,
   "metadata": {},
   "outputs": [],
   "source": [
    "names = []\n",
    "categories = []\n",
    "for i in range(len(posts_transportation)):\n",
    "    names.append(posts_transportation[i]['name'])\n",
    "    categories.append(posts_transportation[i]['categories'][0]['alias'])"
   ]
  },
  {
   "cell_type": "code",
   "execution_count": null,
   "metadata": {},
   "outputs": [],
   "source": [
    "len(names)"
   ]
  },
  {
   "cell_type": "markdown",
   "metadata": {},
   "source": [
    "### Lifeline 6 - Transportation Offset 50"
   ]
  },
  {
   "cell_type": "code",
   "execution_count": null,
   "metadata": {},
   "outputs": [],
   "source": [
    "params_transportation = {'categories':['airlines',\n",
    "                                   'busstations',\n",
    "                                   'ferries',\n",
    "                                   'metrostations',\n",
    "                                   'publictransport',\n",
    "                                   'trains',\n",
    "                                   'taxis'],\n",
    "                       'location':'Boston',\n",
    "                       'limit': 50,\n",
    "                       'radius':40000,\n",
    "                       'offset':50\n",
    "                        }"
   ]
  },
  {
   "cell_type": "code",
   "execution_count": null,
   "metadata": {},
   "outputs": [],
   "source": [
    "req=requests.get(url, params_transportation, headers=headers)\n",
    "\n",
    "# proceed only if the status code is 200\n",
    "print('The status code is {}'.format(req.status_code))"
   ]
  },
  {
   "cell_type": "code",
   "execution_count": null,
   "metadata": {},
   "outputs": [],
   "source": [
    "data = req.json()\n",
    "posts_transportation = data['businesses']\n",
    "len(posts_transportation)"
   ]
  },
  {
   "cell_type": "code",
   "execution_count": null,
   "metadata": {},
   "outputs": [],
   "source": [
    "for i in range(len(posts_transportation)):\n",
    "    names.append(posts_transportation[i]['name'])\n",
    "    categories.append(posts_transportation[i]['categories'][0]['alias'])"
   ]
  },
  {
   "cell_type": "code",
   "execution_count": null,
   "metadata": {},
   "outputs": [],
   "source": [
    "len(names)"
   ]
  },
  {
   "cell_type": "markdown",
   "metadata": {},
   "source": [
    "### Lifeline 6 - Transportation Offset 100"
   ]
  },
  {
   "cell_type": "code",
   "execution_count": null,
   "metadata": {},
   "outputs": [],
   "source": [
    "params_transportation = {'categories':['airlines',\n",
    "                                   'busstations',\n",
    "                                   'ferries',\n",
    "                                   'metrostations',\n",
    "                                   'publictransport',\n",
    "                                   'trains',\n",
    "                                   'taxis'],\n",
    "                       'location':'Boston',\n",
    "                       'limit': 50,\n",
    "                       'radius':40000,\n",
    "                       'offset':100\n",
    "                        }"
   ]
  },
  {
   "cell_type": "code",
   "execution_count": null,
   "metadata": {},
   "outputs": [],
   "source": [
    "req=requests.get(url, params_transportation, headers=headers)\n",
    "# proceed only if the status code is 200\n",
    "print('The status code is {}'.format(req.status_code))"
   ]
  },
  {
   "cell_type": "code",
   "execution_count": null,
   "metadata": {},
   "outputs": [],
   "source": [
    "data = req.json()\n",
    "posts_transportation = data['businesses']\n",
    "len(posts_transportation)"
   ]
  },
  {
   "cell_type": "code",
   "execution_count": null,
   "metadata": {},
   "outputs": [],
   "source": [
    "for i in range(len(posts_transportation)):\n",
    "    names.append(posts_transportation[i]['name'])\n",
    "    categories.append(posts_transportation[i]['categories'][0]['alias'])"
   ]
  },
  {
   "cell_type": "code",
   "execution_count": null,
   "metadata": {},
   "outputs": [],
   "source": [
    "len(names)"
   ]
  },
  {
   "cell_type": "markdown",
   "metadata": {},
   "source": [
    "## Lifeline 6 - Transportation Offset 150"
   ]
  },
  {
   "cell_type": "code",
   "execution_count": null,
   "metadata": {},
   "outputs": [],
   "source": [
    "params_transportation = {'categories':['airlines',\n",
    "                                   'busstations',\n",
    "                                   'ferries',\n",
    "                                   'metrostations',\n",
    "                                   'publictransport',\n",
    "                                   'trains',\n",
    "                                   'taxis'],\n",
    "                       'location':'Boston',\n",
    "                       'limit': 50,\n",
    "                       'radius':40000,\n",
    "                       'offset':150\n",
    "                        }"
   ]
  },
  {
   "cell_type": "code",
   "execution_count": null,
   "metadata": {},
   "outputs": [],
   "source": [
    "req=requests.get(url, params_transportation, headers=headers)\n",
    "# proceed only if the status code is 200\n",
    "print('The status code is {}'.format(req.status_code))"
   ]
  },
  {
   "cell_type": "code",
   "execution_count": null,
   "metadata": {},
   "outputs": [],
   "source": [
    "data = req.json()\n",
    "posts_transportation = data['businesses']\n",
    "len(posts_transportation)"
   ]
  },
  {
   "cell_type": "code",
   "execution_count": null,
   "metadata": {},
   "outputs": [],
   "source": [
    "for i in range(len(posts_transportation)):\n",
    "    names.append(posts_transportation[i]['name'])\n",
    "    categories.append(posts_transportation[i]['categories'][0]['alias'])"
   ]
  },
  {
   "cell_type": "code",
   "execution_count": null,
   "metadata": {},
   "outputs": [],
   "source": [
    "len(names)"
   ]
  },
  {
   "cell_type": "markdown",
   "metadata": {},
   "source": [
    "### Lifeline 6 - Transportation Offset 200"
   ]
  },
  {
   "cell_type": "code",
   "execution_count": null,
   "metadata": {},
   "outputs": [],
   "source": [
    "params_transportation = {'categories':['airlines',\n",
    "                                   'busstations',\n",
    "                                   'ferries',\n",
    "                                   'metrostations',\n",
    "                                   'publictransport',\n",
    "                                   'trains',\n",
    "                                   'taxis'],\n",
    "                       'location':'Boston',\n",
    "                       'limit': 50,\n",
    "                       'radius':40000,\n",
    "                       'offset':200\n",
    "                        }"
   ]
  },
  {
   "cell_type": "code",
   "execution_count": null,
   "metadata": {},
   "outputs": [],
   "source": [
    "req=requests.get(url, params_transportation, headers=headers)\n",
    "# proceed only if the status code is 200\n",
    "print('The status code is {}'.format(req.status_code))"
   ]
  },
  {
   "cell_type": "code",
   "execution_count": null,
   "metadata": {},
   "outputs": [],
   "source": [
    "data = req.json()\n",
    "posts_transportation = data['businesses']\n",
    "len(posts_transportation)"
   ]
  },
  {
   "cell_type": "code",
   "execution_count": null,
   "metadata": {},
   "outputs": [],
   "source": [
    "for i in range(len(posts_transportation)):\n",
    "    names.append(posts_transportation[i]['name'])\n",
    "    categories.append(posts_transportation[i]['categories'][0]['alias'])"
   ]
  },
  {
   "cell_type": "code",
   "execution_count": null,
   "metadata": {},
   "outputs": [],
   "source": [
    "len(names)"
   ]
  },
  {
   "cell_type": "markdown",
   "metadata": {},
   "source": [
    "### Lifeline 6 - Transportation Offset 250 "
   ]
  },
  {
   "cell_type": "code",
   "execution_count": null,
   "metadata": {},
   "outputs": [],
   "source": [
    "params_transportation = {'categories':['airlines',\n",
    "                                   'busstations',\n",
    "                                   'ferries',\n",
    "                                   'metrostations',\n",
    "                                   'publictransport',\n",
    "                                   'trains',\n",
    "                                   'taxis'],\n",
    "                       'location':'Boston',\n",
    "                       'limit': 50,\n",
    "                       'radius':40000,\n",
    "                       'offset':250\n",
    "                        }"
   ]
  },
  {
   "cell_type": "code",
   "execution_count": null,
   "metadata": {},
   "outputs": [],
   "source": [
    "req=requests.get(url, params_transportation, headers=headers)\n",
    "# proceed only if the status code is 200\n",
    "print('The status code is {}'.format(req.status_code))"
   ]
  },
  {
   "cell_type": "code",
   "execution_count": null,
   "metadata": {},
   "outputs": [],
   "source": [
    "data = req.json()\n",
    "posts_transportation = data['businesses']\n",
    "len(posts_transportation)"
   ]
  },
  {
   "cell_type": "code",
   "execution_count": null,
   "metadata": {},
   "outputs": [],
   "source": [
    "for i in range(len(posts_transportation)):\n",
    "    names.append(posts_transportation[i]['name'])\n",
    "    categories.append(posts_transportation[i]['categories'][0]['alias'])"
   ]
  },
  {
   "cell_type": "code",
   "execution_count": null,
   "metadata": {},
   "outputs": [],
   "source": [
    "len(names)"
   ]
  },
  {
   "cell_type": "code",
   "execution_count": null,
   "metadata": {},
   "outputs": [],
   "source": []
  },
  {
   "cell_type": "code",
   "execution_count": null,
   "metadata": {},
   "outputs": [],
   "source": [
    "df_transportation =pd.DataFrame(posts_transportation)\n",
    "df_transportation"
   ]
  },
  {
   "cell_type": "markdown",
   "metadata": {},
   "source": [
    "## (7) Hazardous waste"
   ]
  },
  {
   "cell_type": "code",
   "execution_count": null,
   "metadata": {},
   "outputs": [],
   "source": [
    "#rework params to not inclue restaurants like kung fu tea\n",
    "params_hazardous_waste = {'categories':['biohazardcleanup',\n",
    "                                   'hazardouswasteddisposal'],\n",
    "                       'location':'Boston',\n",
    "                       'limit': 50,\n",
    "                       'radius':40000}"
   ]
  },
  {
   "cell_type": "code",
   "execution_count": null,
   "metadata": {},
   "outputs": [],
   "source": [
    "req=requests.get(url, params_hazardous_waste, headers=headers)\n",
    "\n",
    "# proceed only if the status code is 200\n",
    "print('The status code is {}'.format(req.status_code))"
   ]
  },
  {
   "cell_type": "code",
   "execution_count": null,
   "metadata": {},
   "outputs": [],
   "source": [
    "data = req.json()\n",
    "posts_hazardous_waste = data['businesses']\n",
    "len(posts_hazardous_waste)"
   ]
  },
  {
   "cell_type": "code",
   "execution_count": null,
   "metadata": {},
   "outputs": [],
   "source": [
    "names = []\n",
    "categories = []\n",
    "for i in range(len(posts_hazardous_waste)):\n",
    "    names.append(posts_hazardous_waste[i]['name'])\n",
    "    categories.append(posts_hazardous_waste[i]['categories'][0]['alias'])"
   ]
  },
  {
   "cell_type": "code",
   "execution_count": null,
   "metadata": {},
   "outputs": [],
   "source": [
    "len(names)"
   ]
  },
  {
   "cell_type": "code",
   "execution_count": null,
   "metadata": {},
   "outputs": [],
   "source": [
    "df_hazardous_waste = pd.DataFrame(columns=['Business','Category'])\n",
    "df_hazardous_waste['Business'] = names\n",
    "df_hazardous_waste['Category'] = categories\n",
    "df_hazardous_waste['Lifeline'] = 7\n",
    "df_hazardous_waste.head()"
   ]
  }
 ],
 "metadata": {
  "kernelspec": {
   "display_name": "Python 3",
   "language": "python",
   "name": "python3"
  },
  "language_info": {
   "codemirror_mode": {
    "name": "ipython",
    "version": 3
   },
   "file_extension": ".py",
   "mimetype": "text/x-python",
   "name": "python",
   "nbconvert_exporter": "python",
   "pygments_lexer": "ipython3",
   "version": "3.7.4"
  }
 },
 "nbformat": 4,
 "nbformat_minor": 2
}
